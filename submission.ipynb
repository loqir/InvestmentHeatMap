{
 "cells": [
  {
   "cell_type": "markdown",
   "id": "a77a567d",
   "metadata": {},
   "source": [
    "1.\t[Data Engineering] To build the dashboard you would first need to source the economic data. Releases of the data can be found on the Federal Reserve Economic Data (FRED), the Office for National Statistics (ONS) and the National Bureau of Statistics of China databases for the US, UK and China respectively. Retrieve data from these sources for the 3 countries for a period of your choice to be displayed in the dashboard. Please provide the series IDs of / links to the datasets you obtained, so that the portfolio manager can trace the data back to their original sources."
   ]
  },
  {
   "cell_type": "markdown",
   "id": "d625a750",
   "metadata": {},
   "source": [
    "# LINKS FOR DATA"
   ]
  },
  {
   "cell_type": "markdown",
   "id": "7331c49b",
   "metadata": {},
   "source": [
    "https://fred.stlouisfed.org/series/GDPC1 - us real gdp\n",
    "https://fred.stlouisfed.org/series/MRTSSM44X72USS - us retail sales\n",
    "https://fred.stlouisfed.org/series/INDPRO - us industrial production\n",
    "\n",
    "\n",
    "https://fred.stlouisfed.org/series/CLVMNACSCAB1GQUK - uk real gdp\n",
    "https://fred.stlouisfed.org/series/GBRSLRTTO02IXOBSAM - uk retail sales\n",
    "https://fred.stlouisfed.org/series/IPIUKM - uk industrial production\n",
    "\n",
    "https://fred.stlouisfed.org/series/CHNGDPNQDSMEI - china NOMINAL gdp\n",
    "https://fred.stlouisfed.org/series/CHNSLRTTO02MLSAM - china retail sales\n",
    "https://fred.stlouisfed.org/series/PRCNTO01CNQ661S china industrial production"
   ]
  },
  {
   "cell_type": "markdown",
   "id": "48443e87",
   "metadata": {},
   "source": [
    "I decided to use the same source for all the data in order to ensure standardisation of format and calculation practices and standards. Also, it was quite difficult to find the relevant data from the National Bureau of Statistics of China. However, one thing to note was that for industrial production, the data for US and UK is an index but that is not the case for the data about China. Also, there are varying units for the different data but since the heatmap is to show the percentage changes QoQ and YoY, this should not be a big issue"
   ]
  },
  {
   "cell_type": "markdown",
   "id": "0a64f34e",
   "metadata": {},
   "source": [
    "# Loading the data"
   ]
  },
  {
   "cell_type": "code",
   "execution_count": 8,
   "id": "335d1ddf",
   "metadata": {},
   "outputs": [],
   "source": [
    "import pandas as pd\n",
    "usGDP = pd.read_excel(\"usgdp.xls\") #(bil)\n",
    "usGDP\n",
    "usRS = pd.read_excel(\"USRS.xls\") #(mil)\n",
    "usIDP = pd.read_excel(\"USIDP.xls\") #(index)\n",
    "\n",
    "ukGDP = pd.read_excel(\"UKGDP.xls\") #(mil)\n",
    "ukRS = pd.read_excel(\"UKRS.xls\") #(index)\n",
    "ukIDP = pd.read_excel(\"UKIDP.xls\") #(index)\n",
    "\n",
    "chiGDP = pd.read_excel(\"CHIGDP.xls\")\n",
    "chiRS = pd.read_excel(\"CHIRS.xls\")\n",
    "chiIDP = pd.read_excel(\"CHIIDP.xls\") #(index)"
   ]
  },
  {
   "cell_type": "markdown",
   "id": "33d1291a",
   "metadata": {},
   "source": [
    "# Preprocessing the data"
   ]
  },
  {
   "cell_type": "code",
   "execution_count": 9,
   "id": "02066287",
   "metadata": {},
   "outputs": [
    {
     "data": {
      "text/html": [
       "<div>\n",
       "<style scoped>\n",
       "    .dataframe tbody tr th:only-of-type {\n",
       "        vertical-align: middle;\n",
       "    }\n",
       "\n",
       "    .dataframe tbody tr th {\n",
       "        vertical-align: top;\n",
       "    }\n",
       "\n",
       "    .dataframe thead th {\n",
       "        text-align: right;\n",
       "    }\n",
       "</style>\n",
       "<table border=\"1\" class=\"dataframe\">\n",
       "  <thead>\n",
       "    <tr style=\"text-align: right;\">\n",
       "      <th></th>\n",
       "      <th>Date</th>\n",
       "      <th>chiIDP</th>\n",
       "    </tr>\n",
       "  </thead>\n",
       "  <tbody>\n",
       "    <tr>\n",
       "      <th>10</th>\n",
       "      <td>1996-01-01 00:00:00</td>\n",
       "      <td>10.54339</td>\n",
       "    </tr>\n",
       "    <tr>\n",
       "      <th>11</th>\n",
       "      <td>1996-04-01 00:00:00</td>\n",
       "      <td>10.387057</td>\n",
       "    </tr>\n",
       "    <tr>\n",
       "      <th>12</th>\n",
       "      <td>1996-07-01 00:00:00</td>\n",
       "      <td>9.898356</td>\n",
       "    </tr>\n",
       "    <tr>\n",
       "      <th>13</th>\n",
       "      <td>1996-10-01 00:00:00</td>\n",
       "      <td>10.412359</td>\n",
       "    </tr>\n",
       "    <tr>\n",
       "      <th>14</th>\n",
       "      <td>1997-01-01 00:00:00</td>\n",
       "      <td>10.590745</td>\n",
       "    </tr>\n",
       "    <tr>\n",
       "      <th>...</th>\n",
       "      <td>...</td>\n",
       "      <td>...</td>\n",
       "    </tr>\n",
       "    <tr>\n",
       "      <th>115</th>\n",
       "      <td>2022-04-01 00:00:00</td>\n",
       "      <td>90.445906</td>\n",
       "    </tr>\n",
       "    <tr>\n",
       "      <th>116</th>\n",
       "      <td>2022-07-01 00:00:00</td>\n",
       "      <td>95.319819</td>\n",
       "    </tr>\n",
       "    <tr>\n",
       "      <th>117</th>\n",
       "      <td>2022-10-01 00:00:00</td>\n",
       "      <td>97.186978</td>\n",
       "    </tr>\n",
       "    <tr>\n",
       "      <th>118</th>\n",
       "      <td>2023-01-01 00:00:00</td>\n",
       "      <td>106.634827</td>\n",
       "    </tr>\n",
       "    <tr>\n",
       "      <th>119</th>\n",
       "      <td>2023-04-01 00:00:00</td>\n",
       "      <td>109.784668</td>\n",
       "    </tr>\n",
       "  </tbody>\n",
       "</table>\n",
       "<p>110 rows × 2 columns</p>\n",
       "</div>"
      ],
      "text/plain": [
       "                    Date      chiIDP\n",
       "10   1996-01-01 00:00:00    10.54339\n",
       "11   1996-04-01 00:00:00   10.387057\n",
       "12   1996-07-01 00:00:00    9.898356\n",
       "13   1996-10-01 00:00:00   10.412359\n",
       "14   1997-01-01 00:00:00   10.590745\n",
       "..                   ...         ...\n",
       "115  2022-04-01 00:00:00   90.445906\n",
       "116  2022-07-01 00:00:00   95.319819\n",
       "117  2022-10-01 00:00:00   97.186978\n",
       "118  2023-01-01 00:00:00  106.634827\n",
       "119  2023-04-01 00:00:00  109.784668\n",
       "\n",
       "[110 rows x 2 columns]"
      ]
     },
     "execution_count": 9,
     "metadata": {},
     "output_type": "execute_result"
    }
   ],
   "source": [
    "#initialise first and last dates, to take the latest for the start dates and earliest for the end dates so that we can use\n",
    "#the most data for dates that have all the data\n",
    "start_dates = []\n",
    "end_dates = []\n",
    "\n",
    "#here i went through each metric individually to examine the structure of the data\n",
    "usGDP.head(15) # first datapoint on row 10, 1947-01-01, quarterly\n",
    "usGDP.tail(5) # last datapoint 2023-04-01\n",
    "start_dates.append(\"1947-01-01\")\n",
    "end_dates.append(\"2023-04-01\")\n",
    "usGDP = usGDP[10:]\n",
    "usGDP = usGDP.rename(columns = {\"FRED Graph Observations\" : \"Date\", \"Unnamed: 1\" : \"usGDP\"})\n",
    "# usGDP[\"usGDP\"] = usGDP.apply(lambda row: row[\"usGDP\"] * 1000000000) #in billions\n",
    "usGDP\n",
    "\n",
    "usRS.head(15) # first datapoint on row 10, 1992-01-01, monthly\n",
    "usRS.tail(5) # last datapoint 2023-08-01\n",
    "start_dates.append(\"1992-01-01\")\n",
    "end_dates.append(\"2023-08-01\")\n",
    "usRS = usRS[10:]\n",
    "usRS = usRS.rename(columns = {\"FRED Graph Observations\" : \"Date\", \"Unnamed: 1\" : \"usRS\"})\n",
    "usRS\n",
    "\n",
    "usIDP.head(15) # first datapoint on row 10, 1919-01-01, monthly\n",
    "usIDP.tail(5) # last datapoint 2023-09-01\n",
    "start_dates.append(\"1919-01-01\")\n",
    "end_dates.append(\"2023-09-01\")\n",
    "usIDP = usIDP.rename(columns = {\"FRED Graph Observations\" : \"Date\", \"Unnamed: 1\" : \"usIDP\"})\n",
    "usIDP = usIDP[10:]\n",
    "usIDP\n",
    "\n",
    "ukGDP.head(15) #first datapoint row 10, 1975-01-01 quarterly\n",
    "ukGDP.tail(5) # 2020-07-01\n",
    "start_dates.append(\"1975-01-01\")\n",
    "end_dates.append(\"2020-07-01\")\n",
    "ukGDP = ukGDP.rename(columns = {\"FRED Graph Observations\" : \"Date\", \"Unnamed: 1\" : \"ukGDP\"})\n",
    "ukGDP = ukGDP[10:]\n",
    "ukGDP\n",
    "\n",
    "ukRS.head(15) #first datapoint row 10, 1992-01-01 monthly\n",
    "ukRS.tail(5) # 2023-08-01\n",
    "start_dates.append(\"1992-01-01\")\n",
    "end_dates.append(\"2023-08-01\")\n",
    "ukRS = ukRS.rename(columns = {\"FRED Graph Observations\" : \"Date\", \"Unnamed: 1\" : \"ukRS\"})\n",
    "ukRS = ukRS[10:]\n",
    "ukRS\n",
    "\n",
    "# ukIDP.head(15) #first datapoint row 10, 1920-01-01 monthly\n",
    "# ukIDP.tail(5) # 2017-01-01\n",
    "start_dates.append(\"1920-01-01\")\n",
    "end_dates.append(\"2017-01-01\")\n",
    "ukIDP = ukIDP.rename(columns = {\"FRED Graph Observations\" : \"Date\", \"Unnamed: 1\" : \"ukIDP\"})\n",
    "ukIDP = ukIDP[10:]\n",
    "\n",
    "# chGDP.head(15) #first datapoint row 10, 1992-01-01 quarterly\n",
    "# chGDP.tail(5) # 2023-04-01\n",
    "start_dates.append(\"1992-01-01\")\n",
    "end_dates.append(\"2023-04-01\")\n",
    "chiGDP = chiGDP.rename(columns = {\"FRED Graph Observations\" : \"Date\", \"Unnamed: 1\" : \"chiGDP\"})\n",
    "chiGDP = chiGDP[10:]\n",
    "chiGDP \n",
    "\n",
    "\n",
    "chiRS.head(15) #first datapoint row 10, 1993-01-01 monthly\n",
    "chiRS.tail(5) # 2018-12-01\n",
    "start_dates.append(\"1993-01-01\")\n",
    "end_dates.append(\"2018-12-01\")\n",
    "chiRS = chiRS.rename(columns = {\"FRED Graph Observations\" : \"Date\", \"Unnamed: 1\" : \"chiRS\"})\n",
    "chiRS = chiRS[10:]\n",
    "chiRS\n",
    "\n",
    "chiIDP.head(15) #first datapoint row 10, 1996-01-01 monthly\n",
    "chiIDP.tail(5) #2023-04-01 \n",
    "start_dates.append(\"1996-01-01\")\n",
    "end_dates.append(\"2023-04-01 \")\n",
    "chiIDP = chiIDP.rename(columns = {\"FRED Graph Observations\" : \"Date\", \"Unnamed: 1\" : \"chiIDP\"})\n",
    "chiIDP = chiIDP[10:]\n",
    "chiIDP"
   ]
  },
  {
   "cell_type": "code",
   "execution_count": 10,
   "id": "67867e05",
   "metadata": {},
   "outputs": [
    {
     "name": "stdout",
     "output_type": "stream",
     "text": [
      "1996-01-01 2017-01-01\n"
     ]
    }
   ],
   "source": [
    "start_date = max(start_dates)\n",
    "end_date = min(end_dates)\n",
    "print(start_date, end_date)"
   ]
  },
  {
   "cell_type": "markdown",
   "id": "54ab287e",
   "metadata": {},
   "source": [
    "2.\t[Data Visualisation] The portfolio manager would like you to build an interactive heatmap with accompanying widgets so that the output of the heatmap is customisable depending on the country, economic indicator, data transformation, end period, lookback period and number of quantiles chosen (see Appendix for details)."
   ]
  },
  {
   "cell_type": "markdown",
   "id": "977c5c81",
   "metadata": {},
   "source": [
    "# Converting monthly data to quarterly data"
   ]
  },
  {
   "cell_type": "code",
   "execution_count": 11,
   "id": "0c576503",
   "metadata": {},
   "outputs": [],
   "source": [
    "target_dates = [(1, 1), (4, 1), (7, 1), (10, 1)]\n",
    "usGDP.iloc[0][\"Date\"]\n",
    "for df in [usRS,usIDP,ukRS,ukIDP,chiRS,chiIDP]:\n",
    "    df['Date'] = pd.to_datetime(df['Date'])  # Convert the 'Date' column to datetime if it's not already\n",
    "    \n",
    "    # Create a new column 'Month_Day' containing the month and day\n",
    "    df['Month_Day'] = df['Date'].dt.strftime('%m-%d')\n",
    "    \n",
    "    # Use the .isin() method to filter rows with matching dates in place\n",
    "    df.drop(df[~df['Month_Day'].isin(['{:02d}-{:02d}'.format(month, day) for month, day in target_dates])].index, inplace=True)\n",
    "    \n",
    "    # Drop the 'Month_Day' column in place\n",
    "    df.drop(columns=['Month_Day'], inplace=True)\n"
   ]
  },
  {
   "cell_type": "markdown",
   "id": "7a09f620",
   "metadata": {},
   "source": [
    "# filtering all the data to be within the specified time frame of 1996-01-01 to 2017-01-01"
   ]
  },
  {
   "cell_type": "code",
   "execution_count": 12,
   "id": "1ac124f0",
   "metadata": {},
   "outputs": [],
   "source": [
    "start_date = pd.to_datetime('1996-01-01')\n",
    "end_date = pd.to_datetime('2017-01-01')\n",
    "all_dfs = [usRS,usIDP,ukRS,ukIDP,chiRS,chiIDP, usGDP,ukGDP,chiGDP]\n",
    "\n",
    "for df in all_dfs:\n",
    "    df['Date'] = pd.to_datetime(df['Date'])  # Convert the 'Date' column to datetime if it's not already\n",
    "    \n",
    "    # Filter the DataFrame in place to include only data within the specified time frame\n",
    "    df.drop(df[(df['Date'] < start_date) | (df['Date'] > end_date)].index, inplace=True)"
   ]
  },
  {
   "cell_type": "markdown",
   "id": "8d86d475",
   "metadata": {},
   "source": [
    "# merging the dataframes"
   ]
  },
  {
   "cell_type": "code",
   "execution_count": 13,
   "id": "40b43406",
   "metadata": {},
   "outputs": [],
   "source": [
    "combined_df = all_dfs[0]  # Start with the first DataFrame\n",
    "# Merge the remaining DataFrames one by one\n",
    "for df in all_dfs[1:]:\n",
    "    combined_df = pd.merge(combined_df, df, on='Date', how='outer')"
   ]
  },
  {
   "cell_type": "code",
   "execution_count": 14,
   "id": "16f3d1dd",
   "metadata": {},
   "outputs": [
    {
     "data": {
      "application/vnd.jupyter.widget-view+json": {
       "model_id": "bbd03909e08c40ae8141b4e664ab5838",
       "version_major": 2,
       "version_minor": 0
      },
      "text/plain": [
       "interactive(children=(SelectMultiple(description='Country:', layout=Layout(width='300px'), options=('US', 'UK'…"
      ]
     },
     "metadata": {},
     "output_type": "display_data"
    },
    {
     "data": {
      "text/plain": [
       "<function __main__.update_heatmap(Countries, Indicator, Transformation, Lookback_periods, End_period, Number_of_quantiles)>"
      ]
     },
     "execution_count": 14,
     "metadata": {},
     "output_type": "execute_result"
    }
   ],
   "source": [
    "from ipywidgets import interact, widgets\n",
    "import pandas as pd\n",
    "import matplotlib.pyplot as plt\n",
    "import seaborn as sns\n",
    "\n",
    "def update_heatmap(Countries, Indicator, Transformation, Lookback_periods, End_period, Number_of_quantiles):\n",
    "    if End_period is not None:\n",
    "        end_date = pd.to_datetime(End_period)\n",
    "        # Check if the selected end_date is after '2017-01-01'\n",
    "        if end_date > pd.to_datetime('2017-01-01'):\n",
    "            print(\"End date cannot be after '2017-01-01'.\")\n",
    "            return\n",
    "    else:\n",
    "        end_date = pd.to_datetime('2017-01-01')  # Provide a default end date if End_period is not selected\n",
    "\n",
    "    if not Countries:\n",
    "        print(\"Please select Country\")\n",
    "        return\n",
    "\n",
    "    # Calculate the start date based on the number of quarters\n",
    "    if Transformation == \"Quarter-on-Quarter\":\n",
    "        start_date = end_date - pd.DateOffset(months=Lookback_periods * 3)\n",
    "    else:\n",
    "        start_date = end_date - pd.DateOffset(months=Lookback_periods * 12)\n",
    "    # Filter data based on lookback periods and end period\n",
    "    filtered_df = combined_df[(combined_df[\"Date\"] >= start_date)  & (combined_df[\"Date\"] <= end_date)]\n",
    "\n",
    "    # Calculate heatmap values for selected countries\n",
    "    heatmap_data = []\n",
    "    for country in Countries:\n",
    "        # Calculate the values based on Indicator, Transformation, and selected country\n",
    "        # You may need to replace this with your specific calculation logic\n",
    "        if Indicator == \"Real_GDP\":\n",
    "            data = filtered_df[[\"Date\", f\"{country.lower()}GDP\"]]\n",
    "        elif Indicator == \"Retail_Sales\":\n",
    "            data = filtered_df[[\"Date\",f\"{country.lower()}RS\"]]\n",
    "        elif Indicator == \"Industrial_Production\":\n",
    "            data = filtered_df[[\"Date\",f\"{country.lower()}IDP\"]]\n",
    "\n",
    "        if Transformation == \"Year-on-Year\":\n",
    "            # Calculate year-on-year values by dropping all other rows that are not yoy data\n",
    "            # Use the .dt accessor to extract the month and day as integers\n",
    "            target_month = end_date.month\n",
    "            \n",
    "            #if target_month is not a in quarter, find the nearest quarter\n",
    "            while target_month not in [10,7,4,1]:\n",
    "                target_month -= 1\n",
    "\n",
    "            # Filter the DataFrame\n",
    "            data = data[data['Date'].dt.month == target_month]\n",
    "            values = data.iloc[:, 1].pct_change(periods=1) * 100\n",
    "            \n",
    "        elif Transformation == \"Quarter-on-Quarter\":\n",
    "            # Calculate quarter-on-quarter values\n",
    "            values = data.iloc[:, 1].pct_change(periods=1) * 100\n",
    "\n",
    "        heatmap_data.append(values)\n",
    "\n",
    "    # Create the heatmap with the correct number of quantiles and colors\n",
    "    n_colors = Number_of_quantiles  # Match the number of colors to the number of quantiles\n",
    "    cmap = sns.color_palette(\"coolwarm\", n_colors)  # Use the color palette for coolwarm with the desired number of colors\n",
    "    \n",
    "    # Convert dates to strings for labeling\n",
    "    x_labels = [str(date.date()) for date in data[\"Date\"]]\n",
    "    y_labels = list(Countries)\n",
    "\n",
    "    plt.figure(figsize=(16, 12))  # Increase the figure size for better spacing\n",
    "    ax = sns.heatmap(heatmap_data, annot=True, fmt=\".2f\", cmap=cmap, linewidths=0.5, cbar_kws={'label': f'{n_colors} Quantiles', 'ticks': range(n_colors)})\n",
    "    \n",
    "    ax.set_xticklabels(x_labels, rotation=45, fontsize=12)  # Adjust font size and rotation\n",
    "    ax.set_yticklabels(y_labels, rotation=0, fontsize=12)  # Adjust font size\n",
    "\n",
    "    country_names = ', '.join(Countries)\n",
    "    plt.title(f'{country_names} - {Indicator} - {Transformation} - {Lookback_periods} {Transformation.split(\"-\")[-1]} ({start_date.date()} to {end_date.date()})', fontsize=16)  # Adjust title font size\n",
    "    plt.show()\n",
    "\n",
    "# Create interactive widgets with label width adjustment\n",
    "Country_widget = widgets.SelectMultiple(options=['US', 'UK', 'CHI'], description='Country:', layout=widgets.Layout(width='300px'))\n",
    "Indicator_widget = widgets.Dropdown(options=['Real_GDP', 'Retail_Sales', 'Industrial_Production'], description='Indicator:', layout=widgets.Layout(width='300px'))\n",
    "Transformation_widget = widgets.Dropdown(options=['Year-on-Year', 'Quarter-on-Quarter'], description='Transformation:', layout=widgets.Layout(width='300px'))\n",
    "Lookback_periods_widget = widgets.BoundedIntText(min=1, description='Lookback periods:', layout=widgets.Layout(width='300px'))\n",
    "End_period_widget = widgets.DatePicker(description='End period:', layout=widgets.Layout(width='300px'))\n",
    "Number_of_quantiles_widget = widgets.IntSlider(min=3, max=5, step=2, description='Quantiles:', layout=widgets.Layout(width='300px'))\n",
    "\n",
    "# Create the interactive heatmap\n",
    "interact(update_heatmap, Countries=Country_widget, Indicator=Indicator_widget, Transformation=Transformation_widget,\n",
    "         Lookback_periods=Lookback_periods_widget, End_period=End_period_widget, Number_of_quantiles=Number_of_quantiles_widget)\n"
   ]
  },
  {
   "cell_type": "markdown",
   "id": "5ae3a44b",
   "metadata": {},
   "source": [
    "# Note for the interactive heatmap: \n",
    "# multiselect for countries can be done by ctrl click\n",
    "# default end period is 2017-01-01"
   ]
  },
  {
   "cell_type": "markdown",
   "id": "7fb87658",
   "metadata": {},
   "source": [
    "3.\t[Data Analysis / Forecasting] Using the retrieved data and built dashboard in Questions 1 & 2, provide a short write-up analysing the recent trends in the economic indicators that you observe, and their investment implications (e.g., Are any countries facing a technical recession? i.e., 2 consecutive quarters of negative Real GDP growth). You may optionally build a model to forecast the year-on-year % changes of Real GDP for 2024 to add to your analysis (you may add any variables and use any model you deem appropriate for the forecast)."
   ]
  },
  {
   "cell_type": "markdown",
   "id": "a5b34374",
   "metadata": {},
   "source": [
    "# GDP DATA"
   ]
  },
  {
   "cell_type": "markdown",
   "id": "5ab76e80",
   "metadata": {},
   "source": [
    "As compared to US and UK, the percentage changes in the real GDP growth are much more drastic. Although this can be attributed to the GDP data of China being nominal as compared to real GDP of US and UK accounted for inflation, this can signal more volatility in investments in china given this trend in its macroeconomic condition. However, this may also just be due to the type of GDP data that China has since it is GDP by expenditure due to the limitation of the data that can be found.\n",
    "\n",
    "As expected, US and UK experienced technical recessions in 2008 due to the global financial crisis, but it was quite interesting to see how the nominal GDP for china fluctuated during this period, assuming that they measure similar metrics"
   ]
  },
  {
   "cell_type": "markdown",
   "id": "21c028a4",
   "metadata": {},
   "source": [
    "# Retail sales data"
   ]
  },
  {
   "cell_type": "markdown",
   "id": "e9ef2baf",
   "metadata": {},
   "source": [
    "It can be unfair to make comparisons since the data for retail sales is not exactly the same with different variants of retail sales and trade, as well as the UK data being an index instead of the absolute value.\n",
    "\n",
    "However if we make the assumption that they can be compared this way, the YoY and QoQ growth in retail sales in China greatly outperforms that in UK and US. This may be partly due to UK and US being more mature economies, as well as the great increase in purchasing power of the Chinese in the recent years with the opening and expansion of their economy.\n",
    "\n",
    "In terms of investment implications, there may be more opportunities in this particular sector for the chinese economy due to its rapid growth"
   ]
  },
  {
   "cell_type": "markdown",
   "id": "5d93de30",
   "metadata": {},
   "source": [
    "# Industrial production data"
   ]
  },
  {
   "cell_type": "markdown",
   "id": "0c8ecaaf",
   "metadata": {},
   "source": [
    "Once again it is unfair to make comparisons since the data for UK and US are indexes but not for that in China. Overall the FRED website is not very robust and comprehensive in its chinese data but there was a lack of historical data on the National Bureau of Statistics of China databases as well.\n",
    "\n",
    "However if we were to make the assumption again, there is higher growth in the chinese economy for the industrial production, possibly due to the size of its population and workforce which contributes to its high industrial production.\n",
    "\n",
    "In terms of investment implications, there may be more opportunities in this particular sector for the chinese economy due to its rapid growth.\n"
   ]
  },
  {
   "cell_type": "markdown",
   "id": "b7bc92f0",
   "metadata": {},
   "source": [
    "# Concluding statement"
   ]
  },
  {
   "cell_type": "markdown",
   "id": "cd364a5f",
   "metadata": {},
   "source": [
    "It is evident that it is imperative to obtain the most similar types of data in the same format eg. indexes or value in order to make meaningful and fair comparisons from which investment decisions can be made.\n",
    "\n",
    "Also, these metrics are not solely economic but they are affected by political, geographical, and social factors as well. By analysing their patterns in combination with research on these other factors that can affect the overall macroeconomic environment, more informed investment decisions can be made with the help of data analytics and science."
   ]
  }
 ],
 "metadata": {
  "kernelspec": {
   "display_name": "Python 3 (ipykernel)",
   "language": "python",
   "name": "python3"
  },
  "language_info": {
   "codemirror_mode": {
    "name": "ipython",
    "version": 3
   },
   "file_extension": ".py",
   "mimetype": "text/x-python",
   "name": "python",
   "nbconvert_exporter": "python",
   "pygments_lexer": "ipython3",
   "version": "3.10.9"
  }
 },
 "nbformat": 4,
 "nbformat_minor": 5
}
